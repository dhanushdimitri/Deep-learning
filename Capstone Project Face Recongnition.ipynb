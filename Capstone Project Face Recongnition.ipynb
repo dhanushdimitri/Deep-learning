{
 "cells": [
  {
   "cell_type": "code",
   "execution_count": 1,
   "id": "cb6bd15a",
   "metadata": {},
   "outputs": [],
   "source": [
    "#specifying the folder where images are present"
   ]
  },
  {
   "cell_type": "code",
   "execution_count": 20,
   "id": "8323cbe5",
   "metadata": {},
   "outputs": [],
   "source": [
    "TrainingImagePath = \"C:\\\\Users\\\\Admin\\\\Downloads\\\\python notes vinod sir\\\\computer vision\\\\Train 1\""
   ]
  },
  {
   "cell_type": "code",
   "execution_count": 21,
   "id": "da596b09",
   "metadata": {},
   "outputs": [],
   "source": [
    "validationImagePath = \"C:\\\\Users\\\\Admin\\\\Downloads\\\\python notes vinod sir\\\\computer vision\\\\validation 1\""
   ]
  },
  {
   "cell_type": "code",
   "execution_count": 22,
   "id": "0b3a86e5",
   "metadata": {},
   "outputs": [],
   "source": [
    "from keras.preprocessing.image import ImageDataGenerator"
   ]
  },
  {
   "cell_type": "code",
   "execution_count": 23,
   "id": "093f4fd0",
   "metadata": {},
   "outputs": [],
   "source": [
    "#base model"
   ]
  },
  {
   "cell_type": "code",
   "execution_count": 24,
   "id": "13be2a8a",
   "metadata": {},
   "outputs": [],
   "source": [
    "train_datagen = ImageDataGenerator(rescale = 1./225)"
   ]
  },
  {
   "cell_type": "code",
   "execution_count": 25,
   "id": "2c1a367d",
   "metadata": {},
   "outputs": [],
   "source": [
    "test_datagen = ImageDataGenerator(rescale = 1./225)"
   ]
  },
  {
   "cell_type": "code",
   "execution_count": 26,
   "id": "b3ee156d",
   "metadata": {},
   "outputs": [],
   "source": [
    "#Generating the training data"
   ]
  },
  {
   "cell_type": "code",
   "execution_count": 27,
   "id": "dfa42c58",
   "metadata": {},
   "outputs": [
    {
     "name": "stdout",
     "output_type": "stream",
     "text": [
      "Found 200 images belonging to 25 classes.\n"
     ]
    }
   ],
   "source": [
    "training_set = train_datagen.flow_from_directory(TrainingImagePath,\n",
    "                                                target_size = (64,64),\n",
    "                                                batch_size = 20,\n",
    "                                                class_mode = 'categorical')"
   ]
  },
  {
   "cell_type": "markdown",
   "id": "2c15810a",
   "metadata": {},
   "source": [
    "# Validation set"
   ]
  },
  {
   "cell_type": "code",
   "execution_count": 28,
   "id": "fd5caa5e",
   "metadata": {},
   "outputs": [],
   "source": [
    "#Generating the validation data"
   ]
  },
  {
   "cell_type": "code",
   "execution_count": 29,
   "id": "3cc075fc",
   "metadata": {},
   "outputs": [
    {
     "name": "stdout",
     "output_type": "stream",
     "text": [
      "Found 50 images belonging to 25 classes.\n"
     ]
    }
   ],
   "source": [
    "validation_set = test_datagen.flow_from_directory(validationImagePath,\n",
    "                                                target_size = (64,64),\n",
    "                                                batch_size = 20,\n",
    "                                                class_mode = 'categorical')"
   ]
  },
  {
   "cell_type": "code",
   "execution_count": 30,
   "id": "2449158c",
   "metadata": {},
   "outputs": [],
   "source": [
    "# Libraries and model type"
   ]
  },
  {
   "cell_type": "code",
   "execution_count": 31,
   "id": "1876bc63",
   "metadata": {},
   "outputs": [],
   "source": [
    "# Create CNN Deep learning model"
   ]
  },
  {
   "cell_type": "code",
   "execution_count": 32,
   "id": "ece0fe30",
   "metadata": {},
   "outputs": [],
   "source": [
    "from keras.models import Sequential\n",
    "from keras.layers import Convolution2D\n",
    "from keras.layers import MaxPool2D\n",
    "from keras.layers import Flatten\n",
    "from keras.layers import Dense"
   ]
  },
  {
   "cell_type": "code",
   "execution_count": 33,
   "id": "8e020c1c",
   "metadata": {},
   "outputs": [],
   "source": [
    "# Initializing the Convolutional Neural Network"
   ]
  },
  {
   "cell_type": "code",
   "execution_count": 34,
   "id": "2fff8cc7",
   "metadata": {},
   "outputs": [],
   "source": [
    "classifier = Sequential()"
   ]
  },
  {
   "cell_type": "markdown",
   "id": "4cfe1d78",
   "metadata": {},
   "source": [
    "# MODEL"
   ]
  },
  {
   "cell_type": "code",
   "execution_count": 35,
   "id": "8492de9e",
   "metadata": {},
   "outputs": [],
   "source": [
    "# STEP 1 Convolution\n",
    "# Adding th e first layer of CNN\n",
    "# We are using the format (64,64,3) because we are using Tensorflow backend\n",
    "# It means 3 matrix of size (64x64) pixels representing Red, Green and Blue components of pixels"
   ]
  },
  {
   "cell_type": "code",
   "execution_count": 36,
   "id": "32963cf9",
   "metadata": {},
   "outputs": [],
   "source": [
    "classifier.add(Convolution2D(32, kernel_size=(3,3),\n",
    "                            input_shape=(64,64,3), activation ='relu'))"
   ]
  },
  {
   "cell_type": "code",
   "execution_count": 37,
   "id": "d839be54",
   "metadata": {},
   "outputs": [],
   "source": [
    "#STEP 2- Max Pooling"
   ]
  },
  {
   "cell_type": "code",
   "execution_count": 38,
   "id": "89846aab",
   "metadata": {},
   "outputs": [],
   "source": [
    "classifier.add(MaxPool2D(pool_size=(2,2)))"
   ]
  },
  {
   "cell_type": "code",
   "execution_count": 39,
   "id": "2b18d1c4",
   "metadata": {},
   "outputs": [],
   "source": [
    "# Additional layer of convolution for better accuracy"
   ]
  },
  {
   "cell_type": "code",
   "execution_count": 40,
   "id": "1170bde1",
   "metadata": {},
   "outputs": [],
   "source": [
    "classifier.add(Convolution2D(64, kernel_size=(3,3), activation='relu'))"
   ]
  },
  {
   "cell_type": "code",
   "execution_count": 41,
   "id": "26797a27",
   "metadata": {},
   "outputs": [],
   "source": [
    "classifier.add(MaxPool2D(pool_size=(2,2)))"
   ]
  },
  {
   "cell_type": "code",
   "execution_count": 42,
   "id": "31e1c251",
   "metadata": {},
   "outputs": [],
   "source": [
    "#STEP 3- Flattening"
   ]
  },
  {
   "cell_type": "code",
   "execution_count": 43,
   "id": "abef6142",
   "metadata": {},
   "outputs": [],
   "source": [
    "classifier.add(Flatten())"
   ]
  },
  {
   "cell_type": "code",
   "execution_count": 44,
   "id": "d2e9867d",
   "metadata": {},
   "outputs": [],
   "source": [
    "#STEP 4 - Fully connected neural network"
   ]
  },
  {
   "cell_type": "code",
   "execution_count": 45,
   "id": "5bc26754",
   "metadata": {},
   "outputs": [],
   "source": [
    "classifier.add(Dense(64, activation='relu'))"
   ]
  },
  {
   "cell_type": "code",
   "execution_count": 46,
   "id": "ab05d9c6",
   "metadata": {},
   "outputs": [],
   "source": [
    "classifier.add(Dense(25, activation='softmax'))"
   ]
  },
  {
   "cell_type": "code",
   "execution_count": 47,
   "id": "1521fca7",
   "metadata": {},
   "outputs": [
    {
     "name": "stdout",
     "output_type": "stream",
     "text": [
      "Model: \"sequential\"\n",
      "_________________________________________________________________\n",
      " Layer (type)                Output Shape              Param #   \n",
      "=================================================================\n",
      " conv2d (Conv2D)             (None, 62, 62, 32)        896       \n",
      "                                                                 \n",
      " max_pooling2d (MaxPooling2D  (None, 31, 31, 32)       0         \n",
      " )                                                               \n",
      "                                                                 \n",
      " conv2d_1 (Conv2D)           (None, 29, 29, 64)        18496     \n",
      "                                                                 \n",
      " max_pooling2d_1 (MaxPooling  (None, 14, 14, 64)       0         \n",
      " 2D)                                                             \n",
      "                                                                 \n",
      " flatten (Flatten)           (None, 12544)             0         \n",
      "                                                                 \n",
      " dense (Dense)               (None, 64)                802880    \n",
      "                                                                 \n",
      " dense_1 (Dense)             (None, 25)                1625      \n",
      "                                                                 \n",
      "=================================================================\n",
      "Total params: 823,897\n",
      "Trainable params: 823,897\n",
      "Non-trainable params: 0\n",
      "_________________________________________________________________\n"
     ]
    }
   ],
   "source": [
    "classifier.summary()"
   ]
  },
  {
   "cell_type": "markdown",
   "id": "aa3726de",
   "metadata": {},
   "source": [
    "# Compiler"
   ]
  },
  {
   "cell_type": "code",
   "execution_count": 48,
   "id": "b7cdf085",
   "metadata": {},
   "outputs": [],
   "source": [
    "# Compiling the CNN"
   ]
  },
  {
   "cell_type": "code",
   "execution_count": 49,
   "id": "21641481",
   "metadata": {},
   "outputs": [],
   "source": [
    "classifier.compile(loss='categorical_crossentropy',\n",
    "                  optimizer = 'adam', metrics =['accuracy'])"
   ]
  },
  {
   "cell_type": "markdown",
   "id": "e1a12966",
   "metadata": {},
   "source": [
    "# Execution of model"
   ]
  },
  {
   "cell_type": "code",
   "execution_count": 50,
   "id": "36a06941",
   "metadata": {},
   "outputs": [],
   "source": [
    "# Starting the model training"
   ]
  },
  {
   "cell_type": "code",
   "execution_count": 51,
   "id": "48f4fa72",
   "metadata": {},
   "outputs": [
    {
     "name": "stderr",
     "output_type": "stream",
     "text": [
      "C:\\Users\\Admin\\AppData\\Local\\Temp\\ipykernel_2648\\2354014473.py:1: UserWarning: `Model.fit_generator` is deprecated and will be removed in a future version. Please use `Model.fit`, which supports generators.\n",
      "  history = classifier.fit_generator(training_set, epochs =20,\n"
     ]
    },
    {
     "name": "stdout",
     "output_type": "stream",
     "text": [
      "Epoch 1/20\n",
      "10/10 [==============================] - 16s 1s/step - loss: 3.2540 - accuracy: 0.0400 - val_loss: 3.1592 - val_accuracy: 0.1200\n",
      "Epoch 2/20\n",
      "10/10 [==============================] - 11s 1s/step - loss: 3.0252 - accuracy: 0.2750 - val_loss: 2.8802 - val_accuracy: 0.2000\n",
      "Epoch 3/20\n",
      "10/10 [==============================] - 12s 1s/step - loss: 2.4926 - accuracy: 0.3950 - val_loss: 2.3754 - val_accuracy: 0.3400\n",
      "Epoch 4/20\n",
      "10/10 [==============================] - 10s 1s/step - loss: 1.7016 - accuracy: 0.6200 - val_loss: 1.7755 - val_accuracy: 0.5200\n",
      "Epoch 5/20\n",
      "10/10 [==============================] - 11s 1s/step - loss: 1.0669 - accuracy: 0.7300 - val_loss: 1.4204 - val_accuracy: 0.5800\n",
      "Epoch 6/20\n",
      "10/10 [==============================] - 10s 1s/step - loss: 0.5884 - accuracy: 0.8450 - val_loss: 1.2233 - val_accuracy: 0.6200\n",
      "Epoch 7/20\n",
      "10/10 [==============================] - 10s 1s/step - loss: 0.3173 - accuracy: 0.9400 - val_loss: 1.0365 - val_accuracy: 0.6200\n",
      "Epoch 8/20\n",
      "10/10 [==============================] - 12s 1s/step - loss: 0.1737 - accuracy: 0.9800 - val_loss: 1.0078 - val_accuracy: 0.7200\n",
      "Epoch 9/20\n",
      "10/10 [==============================] - 14s 1s/step - loss: 0.0968 - accuracy: 0.9950 - val_loss: 0.8831 - val_accuracy: 0.7600\n",
      "Epoch 10/20\n",
      "10/10 [==============================] - 10s 1s/step - loss: 0.0596 - accuracy: 1.0000 - val_loss: 0.9646 - val_accuracy: 0.7400\n",
      "Epoch 11/20\n",
      "10/10 [==============================] - 10s 1s/step - loss: 0.0414 - accuracy: 0.9950 - val_loss: 0.7866 - val_accuracy: 0.7600\n",
      "Epoch 12/20\n",
      "10/10 [==============================] - 10s 1s/step - loss: 0.0229 - accuracy: 1.0000 - val_loss: 0.8658 - val_accuracy: 0.7400\n",
      "Epoch 13/20\n",
      "10/10 [==============================] - 10s 993ms/step - loss: 0.0165 - accuracy: 1.0000 - val_loss: 0.9583 - val_accuracy: 0.7000\n",
      "Epoch 14/20\n",
      "10/10 [==============================] - 11s 1s/step - loss: 0.0090 - accuracy: 1.0000 - val_loss: 0.7953 - val_accuracy: 0.7800\n",
      "Epoch 15/20\n",
      "10/10 [==============================] - 14s 1s/step - loss: 0.0063 - accuracy: 1.0000 - val_loss: 0.7976 - val_accuracy: 0.7600\n",
      "Epoch 16/20\n",
      "10/10 [==============================] - 10s 1s/step - loss: 0.0045 - accuracy: 1.0000 - val_loss: 0.8231 - val_accuracy: 0.7400\n",
      "Epoch 17/20\n",
      "10/10 [==============================] - 10s 1s/step - loss: 0.0039 - accuracy: 1.0000 - val_loss: 0.8607 - val_accuracy: 0.7400\n",
      "Epoch 18/20\n",
      "10/10 [==============================] - 10s 1s/step - loss: 0.0033 - accuracy: 1.0000 - val_loss: 0.8193 - val_accuracy: 0.7400\n",
      "Epoch 19/20\n",
      "10/10 [==============================] - 11s 1s/step - loss: 0.0027 - accuracy: 1.0000 - val_loss: 0.8263 - val_accuracy: 0.7400\n",
      "Epoch 20/20\n",
      "10/10 [==============================] - 10s 1s/step - loss: 0.0024 - accuracy: 1.0000 - val_loss: 0.8206 - val_accuracy: 0.7400\n"
     ]
    }
   ],
   "source": [
    "history = classifier.fit_generator(training_set, epochs =20,\n",
    "                                  validation_data=validation_set)"
   ]
  },
  {
   "cell_type": "markdown",
   "id": "a667778a",
   "metadata": {},
   "source": [
    "# Accuracy base model"
   ]
  },
  {
   "cell_type": "code",
   "execution_count": 52,
   "id": "da29d502",
   "metadata": {},
   "outputs": [],
   "source": [
    "#Displaying curves of loss and accuracy during training"
   ]
  },
  {
   "cell_type": "code",
   "execution_count": 60,
   "id": "6a3b388c",
   "metadata": {},
   "outputs": [],
   "source": [
    "import matplotlib.pyplot as plt"
   ]
  },
  {
   "cell_type": "code",
   "execution_count": 61,
   "id": "a2f54536",
   "metadata": {},
   "outputs": [],
   "source": [
    "acc = history.history['accuracy']"
   ]
  },
  {
   "cell_type": "code",
   "execution_count": 62,
   "id": "4d3c58b8",
   "metadata": {},
   "outputs": [],
   "source": [
    "val_acc = history.history['val_accuracy']"
   ]
  },
  {
   "cell_type": "code",
   "execution_count": 63,
   "id": "c4eade01",
   "metadata": {},
   "outputs": [],
   "source": [
    "loss = history.history['loss']"
   ]
  },
  {
   "cell_type": "code",
   "execution_count": 64,
   "id": "e04e4857",
   "metadata": {},
   "outputs": [],
   "source": [
    "val_loss = history.history['val_loss']"
   ]
  },
  {
   "cell_type": "code",
   "execution_count": 65,
   "id": "30d0b84f",
   "metadata": {},
   "outputs": [],
   "source": [
    "epochs = range(1, len(acc) + 1)"
   ]
  },
  {
   "cell_type": "code",
   "execution_count": 66,
   "id": "7002cc49",
   "metadata": {},
   "outputs": [
    {
     "data": {
      "text/plain": [
       "<Figure size 432x288 with 0 Axes>"
      ]
     },
     "execution_count": 66,
     "metadata": {},
     "output_type": "execute_result"
    },
    {
     "data": {
      "image/png": "[encoded data removed]",
      "text/plain": [
       "<Figure size 432x288 with 1 Axes>"
      ]
     },
     "metadata": {
      "needs_background": "light"
     },
     "output_type": "display_data"
    },
    {
     "data": {
      "text/plain": [
       "<Figure size 432x288 with 0 Axes>"
      ]
     },
     "metadata": {},
     "output_type": "display_data"
    }
   ],
   "source": [
    "plt.plot(epochs, acc, 'bo', label='Training acc')\n",
    "plt.plot(epochs, val_acc, 'r', label='Validation acc')\n",
    "plt.title('Training and validation accuracy')\n",
    "plt.legend()\n",
    "plt.figure()"
   ]
  },
  {
   "cell_type": "markdown",
   "id": "e204e892",
   "metadata": {},
   "source": [
    "# Loss base model"
   ]
  },
  {
   "cell_type": "code",
   "execution_count": 67,
   "id": "11e1d8e3",
   "metadata": {},
   "outputs": [
    {
     "data": {
      "text/plain": [
       "<Figure size 432x288 with 0 Axes>"
      ]
     },
     "execution_count": 67,
     "metadata": {},
     "output_type": "execute_result"
    },
    {
     "data": {
      "image/png": "[encoded data removed]",
      "text/plain": [
       "<Figure size 432x288 with 1 Axes>"
      ]
     },
     "metadata": {
      "needs_background": "light"
     },
     "output_type": "display_data"
    },
    {
     "data": {
      "text/plain": [
       "<Figure size 432x288 with 0 Axes>"
      ]
     },
     "metadata": {},
     "output_type": "display_data"
    }
   ],
   "source": [
    "plt.plot(epochs, loss, 'bo', label='Training loss')\n",
    "plt.plot(epochs, val_loss, 'r', label='Validation loss')\n",
    "plt.title('Training and validation loss')\n",
    "plt.legend()\n",
    "plt.figure()"
   ]
  },
  {
   "cell_type": "code",
   "execution_count": 68,
   "id": "e42e2f8e",
   "metadata": {},
   "outputs": [],
   "source": [
    "# Lets improve"
   ]
  },
  {
   "cell_type": "code",
   "execution_count": 69,
   "id": "938e7633",
   "metadata": {},
   "outputs": [],
   "source": [
    "# Model 2"
   ]
  },
  {
   "cell_type": "code",
   "execution_count": 70,
   "id": "d36a13e2",
   "metadata": {},
   "outputs": [],
   "source": [
    "# Adding parameters in the ImageDatagenerator"
   ]
  },
  {
   "cell_type": "code",
   "execution_count": 71,
   "id": "b327fbe6",
   "metadata": {},
   "outputs": [],
   "source": [
    "train_datagen = ImageDataGenerator(rescale=1./225, shear_range=0.5,\n",
    "                                  zoom_range=0.5, width_shift_range=0.2,\n",
    "                                  height_shift_range=0.2)"
   ]
  },
  {
   "cell_type": "code",
   "execution_count": 72,
   "id": "1cc4e1de",
   "metadata": {},
   "outputs": [],
   "source": [
    "# No transformations are done on the testing images"
   ]
  },
  {
   "cell_type": "code",
   "execution_count": 73,
   "id": "c95e3a4b",
   "metadata": {},
   "outputs": [],
   "source": [
    "test_datgen = ImageDataGenerator(rescale=1./225)"
   ]
  },
  {
   "cell_type": "code",
   "execution_count": 74,
   "id": "7a842909",
   "metadata": {},
   "outputs": [],
   "source": [
    "# Generating the training data"
   ]
  },
  {
   "cell_type": "code",
   "execution_count": 75,
   "id": "e4eec759",
   "metadata": {},
   "outputs": [
    {
     "name": "stdout",
     "output_type": "stream",
     "text": [
      "Found 200 images belonging to 25 classes.\n"
     ]
    }
   ],
   "source": [
    "training_set = train_datagen.flow_from_directory(TrainingImagePath,\n",
    "                                                target_size=(64,64),\n",
    "                                                batch_size=20,\n",
    "                                                class_mode='categorical')"
   ]
  },
  {
   "cell_type": "code",
   "execution_count": 76,
   "id": "31d3f981",
   "metadata": {},
   "outputs": [],
   "source": [
    "# Generating the validation data"
   ]
  },
  {
   "cell_type": "code",
   "execution_count": 77,
   "id": "2ac9a009",
   "metadata": {},
   "outputs": [
    {
     "name": "stdout",
     "output_type": "stream",
     "text": [
      "Found 50 images belonging to 25 classes.\n"
     ]
    }
   ],
   "source": [
    "validation_set = test_datagen.flow_from_directory(validationImagePath,\n",
    "                                                target_size=(64,64),\n",
    "                                                batch_size=20,\n",
    "                                                class_mode='categorical')"
   ]
  },
  {
   "cell_type": "code",
   "execution_count": 78,
   "id": "419ed527",
   "metadata": {},
   "outputs": [],
   "source": [
    "#Create Cnn deep learning model"
   ]
  },
  {
   "cell_type": "code",
   "execution_count": 79,
   "id": "dd2270d6",
   "metadata": {},
   "outputs": [],
   "source": [
    "from keras.models import Sequential\n",
    "from keras.layers import Convolution2D\n",
    "from keras.layers import MaxPool2D\n",
    "from keras.layers import Flatten\n",
    "from keras.layers import Dense"
   ]
  },
  {
   "cell_type": "code",
   "execution_count": 80,
   "id": "e7991c5a",
   "metadata": {},
   "outputs": [],
   "source": [
    "# Initializing the Convolutional Neural Network"
   ]
  },
  {
   "cell_type": "code",
   "execution_count": 81,
   "id": "b35b1bd3",
   "metadata": {},
   "outputs": [],
   "source": [
    "classifier = Sequential()"
   ]
  },
  {
   "cell_type": "code",
   "execution_count": 82,
   "id": "675de677",
   "metadata": {},
   "outputs": [],
   "source": [
    "# Convolution"
   ]
  },
  {
   "cell_type": "code",
   "execution_count": 83,
   "id": "41ea7190",
   "metadata": {},
   "outputs": [],
   "source": [
    "classifier.add(Convolution2D(32, kernel_size=(3,3),\n",
    "                            input_shape=(64,64,3), activation ='relu'))"
   ]
  },
  {
   "cell_type": "code",
   "execution_count": 84,
   "id": "67ccb2d7",
   "metadata": {},
   "outputs": [],
   "source": [
    "#Max Pooling"
   ]
  },
  {
   "cell_type": "code",
   "execution_count": 85,
   "id": "4274ae60",
   "metadata": {},
   "outputs": [],
   "source": [
    "classifier.add(MaxPool2D(pool_size=(2,2)))"
   ]
  },
  {
   "cell_type": "code",
   "execution_count": 86,
   "id": "09ee17bb",
   "metadata": {},
   "outputs": [],
   "source": [
    "# Additional layer of convolution for better accuracy"
   ]
  },
  {
   "cell_type": "code",
   "execution_count": 87,
   "id": "59700aaf",
   "metadata": {},
   "outputs": [],
   "source": [
    "classifier.add(Convolution2D(64, kernel_size=(3,3), activation='relu'))"
   ]
  },
  {
   "cell_type": "code",
   "execution_count": 88,
   "id": "6a26d79a",
   "metadata": {},
   "outputs": [],
   "source": [
    "classifier.add(MaxPool2D(pool_size=(2,2)))"
   ]
  },
  {
   "cell_type": "code",
   "execution_count": 89,
   "id": "63e421f6",
   "metadata": {},
   "outputs": [],
   "source": [
    "#Flattening"
   ]
  },
  {
   "cell_type": "code",
   "execution_count": 90,
   "id": "ee3eb2d6",
   "metadata": {},
   "outputs": [],
   "source": [
    "classifier.add(Flatten())"
   ]
  },
  {
   "cell_type": "code",
   "execution_count": 91,
   "id": "521c5572",
   "metadata": {},
   "outputs": [],
   "source": [
    "#Fully connected neural network"
   ]
  },
  {
   "cell_type": "code",
   "execution_count": 92,
   "id": "4b484240",
   "metadata": {},
   "outputs": [],
   "source": [
    "classifier.add(Dense(64, activation='relu'))#hidden layer"
   ]
  },
  {
   "cell_type": "code",
   "execution_count": 93,
   "id": "9c0df7bb",
   "metadata": {},
   "outputs": [],
   "source": [
    "classifier.add(Dense(25, activation='softmax'))#output layer"
   ]
  },
  {
   "cell_type": "code",
   "execution_count": 94,
   "id": "2a29ce4b",
   "metadata": {},
   "outputs": [
    {
     "name": "stdout",
     "output_type": "stream",
     "text": [
      "Model: \"sequential_1\"\n",
      "_________________________________________________________________\n",
      " Layer (type)                Output Shape              Param #   \n",
      "=================================================================\n",
      " conv2d_2 (Conv2D)           (None, 62, 62, 32)        896       \n",
      "                                                                 \n",
      " max_pooling2d_2 (MaxPooling  (None, 31, 31, 32)       0         \n",
      " 2D)                                                             \n",
      "                                                                 \n",
      " conv2d_3 (Conv2D)           (None, 29, 29, 64)        18496     \n",
      "                                                                 \n",
      " max_pooling2d_3 (MaxPooling  (None, 14, 14, 64)       0         \n",
      " 2D)                                                             \n",
      "                                                                 \n",
      " flatten_1 (Flatten)         (None, 12544)             0         \n",
      "                                                                 \n",
      " dense_2 (Dense)             (None, 64)                802880    \n",
      "                                                                 \n",
      " dense_3 (Dense)             (None, 25)                1625      \n",
      "                                                                 \n",
      "=================================================================\n",
      "Total params: 823,897\n",
      "Trainable params: 823,897\n",
      "Non-trainable params: 0\n",
      "_________________________________________________________________\n"
     ]
    }
   ],
   "source": [
    "classifier.summary()"
   ]
  },
  {
   "cell_type": "code",
   "execution_count": 95,
   "id": "10684d06",
   "metadata": {},
   "outputs": [],
   "source": [
    "#Compiler"
   ]
  },
  {
   "cell_type": "code",
   "execution_count": 96,
   "id": "cc589088",
   "metadata": {},
   "outputs": [],
   "source": [
    "classifier.compile(loss='categorical_crossentropy',\n",
    "                  optimizer='adam', metrics=['accuracy'])"
   ]
  },
  {
   "cell_type": "code",
   "execution_count": 97,
   "id": "74654438",
   "metadata": {},
   "outputs": [],
   "source": [
    "#Execute"
   ]
  },
  {
   "cell_type": "code",
   "execution_count": 98,
   "id": "e2cf2a98",
   "metadata": {},
   "outputs": [],
   "source": [
    "#Starting the model training"
   ]
  },
  {
   "cell_type": "code",
   "execution_count": 99,
   "id": "76babdab",
   "metadata": {},
   "outputs": [
    {
     "name": "stderr",
     "output_type": "stream",
     "text": [
      "C:\\Users\\Admin\\AppData\\Local\\Temp\\ipykernel_2648\\346272482.py:1: UserWarning: `Model.fit_generator` is deprecated and will be removed in a future version. Please use `Model.fit`, which supports generators.\n",
      "  history = classifier.fit_generator(training_set, epochs =100,\n"
     ]
    },
    {
     "name": "stdout",
     "output_type": "stream",
     "text": [
      "Epoch 1/100\n",
      "10/10 [==============================] - 12s 1s/step - loss: 3.2850 - accuracy: 0.0400 - val_loss: 3.1474 - val_accuracy: 0.0600\n",
      "Epoch 2/100\n",
      "10/10 [==============================] - 10s 1s/step - loss: 3.0938 - accuracy: 0.0950 - val_loss: 2.9147 - val_accuracy: 0.0800\n",
      "Epoch 3/100\n",
      "10/10 [==============================] - 10s 1s/step - loss: 2.8930 - accuracy: 0.1550 - val_loss: 2.6741 - val_accuracy: 0.2000\n",
      "Epoch 4/100\n",
      "10/10 [==============================] - 10s 995ms/step - loss: 2.6802 - accuracy: 0.2100 - val_loss: 2.3681 - val_accuracy: 0.3400\n",
      "Epoch 5/100\n",
      "10/10 [==============================] - 11s 1s/step - loss: 2.4475 - accuracy: 0.3100 - val_loss: 2.1234 - val_accuracy: 0.3800\n",
      "Epoch 6/100\n",
      "10/10 [==============================] - 11s 1s/step - loss: 2.2048 - accuracy: 0.3550 - val_loss: 1.9144 - val_accuracy: 0.4600\n",
      "Epoch 7/100\n",
      "10/10 [==============================] - 10s 998ms/step - loss: 1.9345 - accuracy: 0.4100 - val_loss: 1.5937 - val_accuracy: 0.5000\n",
      "Epoch 8/100\n",
      "10/10 [==============================] - 10s 1s/step - loss: 1.9041 - accuracy: 0.4350 - val_loss: 1.4399 - val_accuracy: 0.5600\n",
      "Epoch 9/100\n",
      "10/10 [==============================] - 10s 1s/step - loss: 1.7603 - accuracy: 0.4100 - val_loss: 1.7642 - val_accuracy: 0.4400\n",
      "Epoch 10/100\n",
      "10/10 [==============================] - 11s 1s/step - loss: 1.6415 - accuracy: 0.5400 - val_loss: 1.4807 - val_accuracy: 0.5200\n",
      "Epoch 11/100\n",
      "10/10 [==============================] - 12s 1s/step - loss: 1.6099 - accuracy: 0.5150 - val_loss: 1.4633 - val_accuracy: 0.5200\n",
      "Epoch 12/100\n",
      "10/10 [==============================] - 15s 2s/step - loss: 1.4097 - accuracy: 0.5750 - val_loss: 1.4806 - val_accuracy: 0.5200\n",
      "Epoch 13/100\n",
      "10/10 [==============================] - 10s 1s/step - loss: 1.4290 - accuracy: 0.5850 - val_loss: 1.2332 - val_accuracy: 0.6000\n",
      "Epoch 14/100\n",
      "10/10 [==============================] - 10s 1s/step - loss: 1.1928 - accuracy: 0.6650 - val_loss: 1.0464 - val_accuracy: 0.6600\n",
      "Epoch 15/100\n",
      "10/10 [==============================] - 10s 1s/step - loss: 1.2572 - accuracy: 0.6100 - val_loss: 0.9358 - val_accuracy: 0.7400\n",
      "Epoch 16/100\n",
      "10/10 [==============================] - 10s 988ms/step - loss: 1.2876 - accuracy: 0.6100 - val_loss: 1.2151 - val_accuracy: 0.6600\n",
      "Epoch 17/100\n",
      "10/10 [==============================] - 11s 1s/step - loss: 1.1651 - accuracy: 0.6700 - val_loss: 1.1042 - val_accuracy: 0.7400\n",
      "Epoch 18/100\n",
      "10/10 [==============================] - 11s 1s/step - loss: 1.0273 - accuracy: 0.7000 - val_loss: 1.1589 - val_accuracy: 0.6600\n",
      "Epoch 19/100\n",
      "10/10 [==============================] - 10s 980ms/step - loss: 0.9560 - accuracy: 0.7100 - val_loss: 1.0212 - val_accuracy: 0.6800\n",
      "Epoch 20/100\n",
      "10/10 [==============================] - 10s 1s/step - loss: 1.1516 - accuracy: 0.6550 - val_loss: 0.9472 - val_accuracy: 0.6000\n",
      "Epoch 21/100\n",
      "10/10 [==============================] - 10s 1s/step - loss: 0.9175 - accuracy: 0.7650 - val_loss: 1.5737 - val_accuracy: 0.5600\n",
      "Epoch 22/100\n",
      "10/10 [==============================] - 10s 999ms/step - loss: 0.9252 - accuracy: 0.7200 - val_loss: 1.1244 - val_accuracy: 0.6200\n",
      "Epoch 23/100\n",
      "10/10 [==============================] - 10s 1s/step - loss: 0.8943 - accuracy: 0.7400 - val_loss: 1.2983 - val_accuracy: 0.6000\n",
      "Epoch 24/100\n",
      "10/10 [==============================] - 11s 1s/step - loss: 0.9855 - accuracy: 0.6900 - val_loss: 1.0656 - val_accuracy: 0.7000\n",
      "Epoch 25/100\n",
      "10/10 [==============================] - 11s 1s/step - loss: 0.8575 - accuracy: 0.7200 - val_loss: 0.9769 - val_accuracy: 0.6600\n",
      "Epoch 26/100\n",
      "10/10 [==============================] - 10s 1s/step - loss: 0.7607 - accuracy: 0.8050 - val_loss: 0.8224 - val_accuracy: 0.7400\n",
      "Epoch 27/100\n",
      "10/10 [==============================] - 10s 1s/step - loss: 0.6143 - accuracy: 0.8200 - val_loss: 1.0383 - val_accuracy: 0.6400\n",
      "Epoch 28/100\n",
      "10/10 [==============================] - 11s 1s/step - loss: 0.5907 - accuracy: 0.8200 - val_loss: 0.9445 - val_accuracy: 0.7000\n",
      "Epoch 29/100\n",
      "10/10 [==============================] - 10s 1s/step - loss: 0.6942 - accuracy: 0.7800 - val_loss: 1.1100 - val_accuracy: 0.6600\n",
      "Epoch 30/100\n",
      "10/10 [==============================] - 11s 1s/step - loss: 0.6829 - accuracy: 0.8000 - val_loss: 0.8886 - val_accuracy: 0.7600\n",
      "Epoch 31/100\n",
      "10/10 [==============================] - 11s 1s/step - loss: 0.6802 - accuracy: 0.7900 - val_loss: 0.8012 - val_accuracy: 0.7800\n",
      "Epoch 32/100\n",
      "10/10 [==============================] - 10s 1s/step - loss: 0.7023 - accuracy: 0.7750 - val_loss: 0.8200 - val_accuracy: 0.7400\n",
      "Epoch 33/100\n",
      "10/10 [==============================] - 10s 994ms/step - loss: 0.6065 - accuracy: 0.8250 - val_loss: 1.3013 - val_accuracy: 0.6000\n",
      "Epoch 34/100\n",
      "10/10 [==============================] - 10s 1s/step - loss: 0.6571 - accuracy: 0.8000 - val_loss: 1.6345 - val_accuracy: 0.5000\n",
      "Epoch 35/100\n",
      "10/10 [==============================] - 10s 1s/step - loss: 0.5482 - accuracy: 0.8550 - val_loss: 0.7137 - val_accuracy: 0.8000\n",
      "Epoch 36/100\n",
      "10/10 [==============================] - 10s 1000ms/step - loss: 0.5920 - accuracy: 0.8000 - val_loss: 0.7202 - val_accuracy: 0.8000\n",
      "Epoch 37/100\n",
      "10/10 [==============================] - 14s 1s/step - loss: 0.5252 - accuracy: 0.8450 - val_loss: 1.1573 - val_accuracy: 0.7000\n",
      "Epoch 38/100\n",
      "10/10 [==============================] - 10s 1s/step - loss: 0.6544 - accuracy: 0.7800 - val_loss: 0.7661 - val_accuracy: 0.8200\n",
      "Epoch 39/100\n",
      "10/10 [==============================] - 10s 1s/step - loss: 0.4633 - accuracy: 0.8650 - val_loss: 0.8970 - val_accuracy: 0.7800\n",
      "Epoch 40/100\n",
      "10/10 [==============================] - 10s 1s/step - loss: 0.4867 - accuracy: 0.8500 - val_loss: 0.7791 - val_accuracy: 0.8200\n",
      "Epoch 41/100\n",
      "10/10 [==============================] - 10s 1s/step - loss: 0.4956 - accuracy: 0.8550 - val_loss: 0.7196 - val_accuracy: 0.8000\n",
      "Epoch 42/100\n",
      "10/10 [==============================] - 10s 987ms/step - loss: 0.6514 - accuracy: 0.8200 - val_loss: 0.6706 - val_accuracy: 0.7800\n",
      "Epoch 43/100\n",
      "10/10 [==============================] - 10s 1s/step - loss: 0.5466 - accuracy: 0.8400 - val_loss: 0.8240 - val_accuracy: 0.7600\n",
      "Epoch 44/100\n",
      "10/10 [==============================] - 11s 1s/step - loss: 0.5251 - accuracy: 0.8600 - val_loss: 0.7183 - val_accuracy: 0.8200\n",
      "Epoch 45/100\n",
      "10/10 [==============================] - 10s 992ms/step - loss: 0.4670 - accuracy: 0.8550 - val_loss: 0.7452 - val_accuracy: 0.8000\n",
      "Epoch 46/100\n",
      "10/10 [==============================] - 11s 1s/step - loss: 0.4278 - accuracy: 0.8600 - val_loss: 0.7264 - val_accuracy: 0.8000\n",
      "Epoch 47/100\n",
      "10/10 [==============================] - 10s 1s/step - loss: 0.4769 - accuracy: 0.8450 - val_loss: 0.8078 - val_accuracy: 0.8000\n",
      "Epoch 48/100\n",
      "10/10 [==============================] - 10s 1s/step - loss: 0.4765 - accuracy: 0.8550 - val_loss: 0.9595 - val_accuracy: 0.8000\n",
      "Epoch 49/100\n",
      "10/10 [==============================] - 10s 1s/step - loss: 0.3977 - accuracy: 0.8750 - val_loss: 0.7832 - val_accuracy: 0.7600\n",
      "Epoch 50/100\n",
      "10/10 [==============================] - 11s 1s/step - loss: 0.4259 - accuracy: 0.8600 - val_loss: 0.9699 - val_accuracy: 0.7800\n",
      "Epoch 51/100\n",
      "10/10 [==============================] - 11s 1s/step - loss: 0.4814 - accuracy: 0.8550 - val_loss: 0.9482 - val_accuracy: 0.8000\n",
      "Epoch 52/100\n",
      "10/10 [==============================] - 10s 1s/step - loss: 0.4425 - accuracy: 0.8800 - val_loss: 0.8203 - val_accuracy: 0.8800\n",
      "Epoch 53/100\n",
      "10/10 [==============================] - 11s 1s/step - loss: 0.4124 - accuracy: 0.8850 - val_loss: 0.7572 - val_accuracy: 0.8400\n",
      "Epoch 54/100\n",
      "10/10 [==============================] - 10s 1s/step - loss: 0.4390 - accuracy: 0.8550 - val_loss: 0.6762 - val_accuracy: 0.8400\n",
      "Epoch 55/100\n",
      "10/10 [==============================] - 10s 1s/step - loss: 0.3574 - accuracy: 0.8950 - val_loss: 0.8934 - val_accuracy: 0.8000\n",
      "Epoch 56/100\n",
      "10/10 [==============================] - 11s 1s/step - loss: 0.3905 - accuracy: 0.8800 - val_loss: 0.7582 - val_accuracy: 0.8800\n",
      "Epoch 57/100\n",
      "10/10 [==============================] - 10s 1s/step - loss: 0.4557 - accuracy: 0.8600 - val_loss: 0.7111 - val_accuracy: 0.8000\n",
      "Epoch 58/100\n",
      "10/10 [==============================] - 10s 1s/step - loss: 0.3523 - accuracy: 0.9050 - val_loss: 0.9852 - val_accuracy: 0.7000\n",
      "Epoch 59/100\n",
      "10/10 [==============================] - 10s 1s/step - loss: 0.3288 - accuracy: 0.9050 - val_loss: 0.6948 - val_accuracy: 0.8200\n",
      "Epoch 60/100\n",
      "10/10 [==============================] - 10s 1s/step - loss: 0.3744 - accuracy: 0.9100 - val_loss: 0.8611 - val_accuracy: 0.7400\n",
      "Epoch 61/100\n",
      "10/10 [==============================] - 10s 1s/step - loss: 0.3254 - accuracy: 0.9150 - val_loss: 0.7719 - val_accuracy: 0.8400\n",
      "Epoch 62/100\n",
      "10/10 [==============================] - 10s 1s/step - loss: 0.3212 - accuracy: 0.9400 - val_loss: 0.8992 - val_accuracy: 0.8000\n",
      "Epoch 63/100\n",
      "10/10 [==============================] - 11s 1s/step - loss: 0.2428 - accuracy: 0.9200 - val_loss: 0.9273 - val_accuracy: 0.8000\n",
      "Epoch 64/100\n",
      "10/10 [==============================] - 13s 1s/step - loss: 0.2896 - accuracy: 0.9100 - val_loss: 0.7395 - val_accuracy: 0.8200\n",
      "Epoch 65/100\n",
      "10/10 [==============================] - 10s 1s/step - loss: 0.2761 - accuracy: 0.9200 - val_loss: 1.0615 - val_accuracy: 0.7200\n",
      "Epoch 66/100\n",
      "10/10 [==============================] - 10s 999ms/step - loss: 0.2910 - accuracy: 0.9100 - val_loss: 0.7286 - val_accuracy: 0.8600\n",
      "Epoch 67/100\n",
      "10/10 [==============================] - 10s 1s/step - loss: 0.2602 - accuracy: 0.9350 - val_loss: 0.8778 - val_accuracy: 0.7600\n",
      "Epoch 68/100\n",
      "10/10 [==============================] - 10s 980ms/step - loss: 0.3051 - accuracy: 0.9200 - val_loss: 0.8768 - val_accuracy: 0.7800\n",
      "Epoch 69/100\n",
      "10/10 [==============================] - 11s 1s/step - loss: 0.2761 - accuracy: 0.9250 - val_loss: 1.1982 - val_accuracy: 0.7200\n",
      "Epoch 70/100\n",
      "10/10 [==============================] - 11s 1s/step - loss: 0.2685 - accuracy: 0.9250 - val_loss: 0.8817 - val_accuracy: 0.8000\n",
      "Epoch 71/100\n",
      "10/10 [==============================] - 10s 1s/step - loss: 0.3135 - accuracy: 0.8900 - val_loss: 1.0106 - val_accuracy: 0.8000\n",
      "Epoch 72/100\n",
      "10/10 [==============================] - 10s 1s/step - loss: 0.2254 - accuracy: 0.9450 - val_loss: 0.8097 - val_accuracy: 0.8600\n",
      "Epoch 73/100\n",
      "10/10 [==============================] - 10s 1s/step - loss: 0.2921 - accuracy: 0.9100 - val_loss: 0.6645 - val_accuracy: 0.8600\n",
      "Epoch 74/100\n",
      "10/10 [==============================] - 11s 1s/step - loss: 0.2287 - accuracy: 0.9350 - val_loss: 0.8591 - val_accuracy: 0.8200\n",
      "Epoch 75/100\n",
      "10/10 [==============================] - 11s 1s/step - loss: 0.3320 - accuracy: 0.8950 - val_loss: 0.8024 - val_accuracy: 0.8400\n",
      "Epoch 76/100\n",
      "10/10 [==============================] - 10s 1s/step - loss: 0.3584 - accuracy: 0.9250 - val_loss: 1.1112 - val_accuracy: 0.7600\n",
      "Epoch 77/100\n",
      "10/10 [==============================] - 11s 1s/step - loss: 0.2497 - accuracy: 0.9250 - val_loss: 0.8015 - val_accuracy: 0.8200\n",
      "Epoch 78/100\n",
      "10/10 [==============================] - 10s 1s/step - loss: 0.1886 - accuracy: 0.9550 - val_loss: 1.0079 - val_accuracy: 0.8200\n",
      "Epoch 79/100\n",
      "10/10 [==============================] - 10s 1s/step - loss: 0.2050 - accuracy: 0.9250 - val_loss: 0.8206 - val_accuracy: 0.7600\n",
      "Epoch 80/100\n",
      "10/10 [==============================] - 10s 1s/step - loss: 0.1506 - accuracy: 0.9550 - val_loss: 0.7979 - val_accuracy: 0.8200\n",
      "Epoch 81/100\n",
      "10/10 [==============================] - 10s 1s/step - loss: 0.1892 - accuracy: 0.9400 - val_loss: 0.8426 - val_accuracy: 0.8200\n",
      "Epoch 82/100\n",
      "10/10 [==============================] - 10s 1s/step - loss: 0.2573 - accuracy: 0.9000 - val_loss: 0.8693 - val_accuracy: 0.8200\n",
      "Epoch 83/100\n",
      "10/10 [==============================] - 10s 1s/step - loss: 0.2421 - accuracy: 0.9350 - val_loss: 0.8176 - val_accuracy: 0.7800\n",
      "Epoch 84/100\n",
      "10/10 [==============================] - 11s 1s/step - loss: 0.3423 - accuracy: 0.9050 - val_loss: 0.9176 - val_accuracy: 0.8400\n",
      "Epoch 85/100\n",
      "10/10 [==============================] - 10s 999ms/step - loss: 0.3023 - accuracy: 0.9000 - val_loss: 0.9152 - val_accuracy: 0.8000\n",
      "Epoch 86/100\n",
      "10/10 [==============================] - 10s 1s/step - loss: 0.2454 - accuracy: 0.9350 - val_loss: 0.9805 - val_accuracy: 0.8200\n",
      "Epoch 87/100\n",
      "10/10 [==============================] - 10s 1s/step - loss: 0.1427 - accuracy: 0.9550 - val_loss: 0.9732 - val_accuracy: 0.8600\n",
      "Epoch 88/100\n",
      "10/10 [==============================] - 10s 1s/step - loss: 0.2035 - accuracy: 0.9450 - val_loss: 0.9484 - val_accuracy: 0.8200\n",
      "Epoch 89/100\n",
      "10/10 [==============================] - 10s 1s/step - loss: 0.1415 - accuracy: 0.9650 - val_loss: 0.8935 - val_accuracy: 0.8000\n",
      "Epoch 90/100\n",
      "10/10 [==============================] - 14s 1s/step - loss: 0.2450 - accuracy: 0.9250 - val_loss: 0.9928 - val_accuracy: 0.8600\n",
      "Epoch 91/100\n",
      "10/10 [==============================] - 12s 1s/step - loss: 0.2342 - accuracy: 0.9200 - val_loss: 1.3530 - val_accuracy: 0.7200\n",
      "Epoch 92/100\n",
      "10/10 [==============================] - 10s 1s/step - loss: 0.2470 - accuracy: 0.9200 - val_loss: 0.8510 - val_accuracy: 0.8000\n",
      "Epoch 93/100\n",
      "10/10 [==============================] - 10s 1s/step - loss: 0.1798 - accuracy: 0.9450 - val_loss: 0.9716 - val_accuracy: 0.8000\n",
      "Epoch 94/100\n",
      "10/10 [==============================] - 11s 1s/step - loss: 0.2130 - accuracy: 0.9400 - val_loss: 0.8942 - val_accuracy: 0.8600\n",
      "Epoch 95/100\n",
      "10/10 [==============================] - 10s 985ms/step - loss: 0.2810 - accuracy: 0.9050 - val_loss: 1.0024 - val_accuracy: 0.7800\n",
      "Epoch 96/100\n",
      "10/10 [==============================] - 11s 1s/step - loss: 0.1548 - accuracy: 0.9500 - val_loss: 0.8997 - val_accuracy: 0.8000\n",
      "Epoch 97/100\n",
      "10/10 [==============================] - 10s 1s/step - loss: 0.2914 - accuracy: 0.9200 - val_loss: 0.9743 - val_accuracy: 0.8200\n",
      "Epoch 98/100\n",
      "10/10 [==============================] - 17s 2s/step - loss: 0.1308 - accuracy: 0.9750 - val_loss: 0.9154 - val_accuracy: 0.8400\n",
      "Epoch 99/100\n",
      "10/10 [==============================] - 13s 1s/step - loss: 0.2491 - accuracy: 0.9050 - val_loss: 1.0601 - val_accuracy: 0.8200\n",
      "Epoch 100/100\n",
      "10/10 [==============================] - 13s 1s/step - loss: 0.2282 - accuracy: 0.9050 - val_loss: 0.6767 - val_accuracy: 0.8800\n"
     ]
    }
   ],
   "source": [
    "history = classifier.fit_generator(training_set, epochs =100,\n",
    "                                  validation_data=validation_set)"
   ]
  },
  {
   "cell_type": "code",
   "execution_count": 100,
   "id": "5c14f6a1",
   "metadata": {},
   "outputs": [],
   "source": [
    "#Displaying curves of loss and accuracy during training"
   ]
  },
  {
   "cell_type": "code",
   "execution_count": 101,
   "id": "b208c4af",
   "metadata": {},
   "outputs": [],
   "source": [
    "import matplotlib.pyplot as plt"
   ]
  },
  {
   "cell_type": "code",
   "execution_count": 102,
   "id": "661ff31e",
   "metadata": {},
   "outputs": [],
   "source": [
    "acc = history.history['accuracy']"
   ]
  },
  {
   "cell_type": "code",
   "execution_count": 103,
   "id": "fee6cad0",
   "metadata": {},
   "outputs": [],
   "source": [
    "val_acc = history.history['val_accuracy']"
   ]
  },
  {
   "cell_type": "code",
   "execution_count": 104,
   "id": "b81a782b",
   "metadata": {},
   "outputs": [],
   "source": [
    "loss = history.history['loss']"
   ]
  },
  {
   "cell_type": "code",
   "execution_count": 105,
   "id": "32a8ec9e",
   "metadata": {},
   "outputs": [],
   "source": [
    "val_loss = history.history['val_loss']"
   ]
  },
  {
   "cell_type": "code",
   "execution_count": 106,
   "id": "18374cbe",
   "metadata": {},
   "outputs": [],
   "source": [
    "epochs = range(1, len(acc) + 1)"
   ]
  },
  {
   "cell_type": "code",
   "execution_count": 107,
   "id": "9e1bc8ea",
   "metadata": {},
   "outputs": [
    {
     "data": {
      "text/plain": [
       "<Figure size 432x288 with 0 Axes>"
      ]
     },
     "execution_count": 107,
     "metadata": {},
     "output_type": "execute_result"
    },
    {
     "data": {
      "image/png": "[encoded data removed]",
      "text/plain": [
       "<Figure size 432x288 with 1 Axes>"
      ]
     },
     "metadata": {
      "needs_background": "light"
     },
     "output_type": "display_data"
    },
    {
     "data": {
      "text/plain": [
       "<Figure size 432x288 with 0 Axes>"
      ]
     },
     "metadata": {},
     "output_type": "display_data"
    }
   ],
   "source": [
    "plt.plot(epochs, acc, 'bo', label='Training acc')\n",
    "plt.plot(epochs, val_acc, 'g', label='Validation acc')\n",
    "plt.title('Training and validation accuracy')\n",
    "plt.legend()\n",
    "plt.figure()"
   ]
  },
  {
   "cell_type": "code",
   "execution_count": 108,
   "id": "b9a1412f",
   "metadata": {},
   "outputs": [
    {
     "data": {
      "text/plain": [
       "<Figure size 432x288 with 0 Axes>"
      ]
     },
     "execution_count": 108,
     "metadata": {},
     "output_type": "execute_result"
    },
    {
     "data": {
      "image/png": "[encoded data removed]",
      "text/plain": [
       "<Figure size 432x288 with 1 Axes>"
      ]
     },
     "metadata": {
      "needs_background": "light"
     },
     "output_type": "display_data"
    },
    {
     "data": {
      "text/plain": [
       "<Figure size 432x288 with 0 Axes>"
      ]
     },
     "metadata": {},
     "output_type": "display_data"
    }
   ],
   "source": [
    "plt.plot(epochs, loss, 'bo', label='Training loss')\n",
    "plt.plot(epochs, val_loss, 'g', label='Validation loss')\n",
    "plt.title('Training and validation loss')\n",
    "plt.legend()\n",
    "plt.figure()"
   ]
  }
 ],
 "metadata": {
  "kernelspec": {
   "display_name": "Python 3 (ipykernel)",
   "language": "python",
   "name": "python3"
  },
  "language_info": {
   "codemirror_mode": {
    "name": "ipython",
    "version": 3
   },
   "file_extension": ".py",
   "mimetype": "text/x-python",
   "name": "python",
   "nbconvert_exporter": "python",
   "pygments_lexer": "ipython3",
   "version": "3.9.12"
  }
 },
 "nbformat": 4,
 "nbformat_minor": 5
}
